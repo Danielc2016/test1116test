{
 "cells": [
  {
   "cell_type": "code",
   "execution_count": 43,
   "metadata": {
    "collapsed": false
   },
   "outputs": [],
   "source": [
    "import math\n",
    "import pandas as pd\n",
    "import matplotlib.pyplot as plt\n",
    "from keras.callbacks import Callback, EarlyStopping, ModelCheckpoint\n",
    "import numpy as np\n",
    "from keras.layers import Embedding, Reshape, Merge, Dropout, Dense\n",
    "from keras.models import Sequential"
   ]
  },
  {
   "cell_type": "code",
   "execution_count": 145,
   "metadata": {
    "collapsed": true
   },
   "outputs": [],
   "source": [
    "RATINGS_CSV_FILE = 'train.csv'\n",
    "MODEL_WEIGHTS_FILE = 'ml1m_weights.h5'\n",
    "K_FACTORS = 1000\n",
    "RNG_SEED = 1"
   ]
  },
  {
   "cell_type": "code",
   "execution_count": 146,
   "metadata": {
    "collapsed": false
   },
   "outputs": [],
   "source": [
    "ratings = pd.read_csv(RATINGS_CSV_FILE,              \n",
    "                      encoding='latin-1', \n",
    "                      usecols=['TrainDataID', 'UserID', 'MovieID', 'Rating'])\n",
    "max_userid = ratings['UserID'].drop_duplicates().max()\n",
    "max_movieid = ratings['MovieID'].drop_duplicates().max()"
   ]
  },
  {
   "cell_type": "code",
   "execution_count": 147,
   "metadata": {
    "collapsed": false
   },
   "outputs": [
    {
     "name": "stdout",
     "output_type": "stream",
     "text": [
      "Users: [2707 1695 4333 ..., 4791 2122 1197] , shape = (899873,)\n",
      "Movies: [1228 1037 2041 ..., 3614 1097 2115] , shape = (899873,)\n",
      "Ratings: [4 3 5 ..., 2 2 4] , shape = (899873,)\n"
     ]
    }
   ],
   "source": [
    "shuffled_ratings = ratings.sample(frac=1., random_state=RNG_SEED)\n",
    "Users = shuffled_ratings['UserID'].values\n",
    "print ('Users:', Users, ', shape =', Users.shape)\n",
    "Movies = shuffled_ratings['MovieID'].values\n",
    "print ('Movies:', Movies, ', shape =', Movies.shape)\n",
    "Ratings = shuffled_ratings['Rating'].values\n",
    "print ('Ratings:', Ratings, ', shape =', Ratings.shape)"
   ]
  },
  {
   "cell_type": "code",
   "execution_count": 148,
   "metadata": {
    "collapsed": false
   },
   "outputs": [],
   "source": [
    "class CFModel(Sequential):\n",
    "\n",
    "    def __init__(self, n_users, m_items, k_factors, **kwargs):\n",
    "        P = Sequential()\n",
    "        P.add(Embedding(n_users, k_factors, input_length=1))\n",
    "        P.add(Dropout(0.2))\n",
    "        P.add(Reshape((k_factors,)))\n",
    "        Q = Sequential()\n",
    "        Q.add(Embedding(m_items, k_factors, input_length=1))\n",
    "        Q.add(Dropout(0.2))\n",
    "        Q.add(Reshape((k_factors,)))\n",
    "        super(CFModel, self).__init__(**kwargs)\n",
    "        self.add(Merge([P, Q], mode='dot', dot_axes=1))\n",
    "#dot => concat, \n",
    "#model.add(Dense(128))\n",
    "#\n",
    "#model.add(Dense(1))\n",
    "#\n",
    "\n",
    "    def rate(self, user_id, item_id):\n",
    "        return self.predict([np.array([user_id]), np.array([item_id])])[0][0]"
   ]
  },
  {
   "cell_type": "code",
   "execution_count": 149,
   "metadata": {
    "collapsed": false
   },
   "outputs": [
    {
     "name": "stderr",
     "output_type": "stream",
     "text": [
      "C:\\Program Files\\Anaconda3\\lib\\site-packages\\ipykernel\\__main__.py:13: UserWarning: The `Merge` layer is deprecated and will be removed after 08/2017. Use instead layers from `keras.layers.merge`, e.g. `add`, `concatenate`, etc.\n"
     ]
    }
   ],
   "source": [
    "model = CFModel(max_userid, max_movieid, K_FACTORS)\n",
    "model.compile(loss='mse', optimizer='adamax')"
   ]
  },
  {
   "cell_type": "code",
   "execution_count": 150,
   "metadata": {
    "collapsed": false,
    "scrolled": false
   },
   "outputs": [
    {
     "name": "stderr",
     "output_type": "stream",
     "text": [
      "C:\\Program Files\\Anaconda3\\lib\\site-packages\\keras\\models.py:834: UserWarning: The `nb_epoch` argument in `fit` has been renamed `epochs`.\n",
      "  warnings.warn('The `nb_epoch` argument in `fit` '\n"
     ]
    },
    {
     "name": "stdout",
     "output_type": "stream",
     "text": [
      "Train on 809885 samples, validate on 89988 samples\n",
      "Epoch 1/3000000\n",
      "809885/809885 [==============================] - 3s - loss: 13.9998 - val_loss: 13.6088\n",
      "Epoch 2/3000000\n",
      "809885/809885 [==============================] - 2s - loss: 10.6674 - val_loss: 5.9784\n",
      "Epoch 3/3000000\n",
      "809885/809885 [==============================] - 2s - loss: 3.0544 - val_loss: 1.7895\n",
      "Epoch 4/3000000\n",
      "809885/809885 [==============================] - 2s - loss: 1.3692 - val_loss: 1.1853\n",
      "Epoch 5/3000000\n",
      "809885/809885 [==============================] - 2s - loss: 1.0291 - val_loss: 0.9981\n",
      "Epoch 6/3000000\n",
      "809885/809885 [==============================] - 2s - loss: 0.9042 - val_loss: 0.9177\n",
      "Epoch 7/3000000\n",
      "809885/809885 [==============================] - 2s - loss: 0.8397 - val_loss: 0.8735\n",
      "Epoch 8/3000000\n",
      "809885/809885 [==============================] - 2s - loss: 0.7969 - val_loss: 0.8452\n",
      "Epoch 9/3000000\n",
      "809885/809885 [==============================] - 2s - loss: 0.7623 - val_loss: 0.8239\n",
      "Epoch 10/3000000\n",
      "809885/809885 [==============================] - 3s - loss: 0.7310 - val_loss: 0.8071\n",
      "Epoch 11/3000000\n",
      "809885/809885 [==============================] - 2s - loss: 0.7002 - val_loss: 0.7931\n",
      "Epoch 12/3000000\n",
      "809885/809885 [==============================] - 3s - loss: 0.6702 - val_loss: 0.7803\n",
      "Epoch 13/3000000\n",
      "809885/809885 [==============================] - 2s - loss: 0.6396 - val_loss: 0.7711\n",
      "Epoch 14/3000000\n",
      "809885/809885 [==============================] - 2s - loss: 0.6086 - val_loss: 0.7621\n",
      "Epoch 15/3000000\n",
      "809885/809885 [==============================] - 3s - loss: 0.5781 - val_loss: 0.7543\n",
      "Epoch 16/3000000\n",
      "809885/809885 [==============================] - 3s - loss: 0.5476 - val_loss: 0.7487\n",
      "Epoch 17/3000000\n",
      "809885/809885 [==============================] - 3s - loss: 0.5164 - val_loss: 0.7434\n",
      "Epoch 18/3000000\n",
      "809885/809885 [==============================] - 3s - loss: 0.4863 - val_loss: 0.7400\n",
      "Epoch 19/3000000\n",
      "809885/809885 [==============================] - 2s - loss: 0.4555 - val_loss: 0.7362\n",
      "Epoch 20/3000000\n",
      "809885/809885 [==============================] - 2s - loss: 0.4263 - val_loss: 0.7343\n",
      "Epoch 21/3000000\n",
      "809885/809885 [==============================] - 3s - loss: 0.3974 - val_loss: 0.7335\n",
      "Epoch 22/3000000\n",
      "809885/809885 [==============================] - 2s - loss: 0.3697 - val_loss: 0.7329\n",
      "Epoch 23/3000000\n",
      "809885/809885 [==============================] - 3s - loss: 0.3438 - val_loss: 0.7325\n",
      "Epoch 24/3000000\n",
      "809885/809885 [==============================] - 2s - loss: 0.3187 - val_loss: 0.7328\n",
      "Epoch 25/3000000\n",
      "809885/809885 [==============================] - 2s - loss: 0.2954 - val_loss: 0.7339\n",
      "Epoch 26/3000000\n",
      "809885/809885 [==============================] - 2s - loss: 0.2732 - val_loss: 0.7350\n"
     ]
    }
   ],
   "source": [
    "callbacks = [EarlyStopping('val_loss', patience=2), \n",
    "             ModelCheckpoint(MODEL_WEIGHTS_FILE, save_best_only=True)]\n",
    "history = model.fit([Users, Movies],Ratings, nb_epoch=3000000, batch_size=10000, validation_split=.1, verbose=1, callbacks=callbacks)"
   ]
  },
  {
   "cell_type": "code",
   "execution_count": 151,
   "metadata": {
    "collapsed": false
   },
   "outputs": [
    {
     "name": "stderr",
     "output_type": "stream",
     "text": [
      "C:\\Program Files\\Anaconda3\\lib\\site-packages\\ipykernel\\__main__.py:13: UserWarning: The `Merge` layer is deprecated and will be removed after 08/2017. Use instead layers from `keras.layers.merge`, e.g. `add`, `concatenate`, etc.\n"
     ]
    }
   ],
   "source": [
    "trained_model = CFModel(max_userid, max_movieid, K_FACTORS)\n",
    "trained_model.load_weights(MODEL_WEIGHTS_FILE)"
   ]
  },
  {
   "cell_type": "code",
   "execution_count": 152,
   "metadata": {
    "collapsed": true
   },
   "outputs": [],
   "source": [
    "test_data = pd.read_csv(\"test.csv\")\n",
    "test = np.asarray(test_data)\n",
    "#TestDataID/UserID(1~6040)/MovieID(1~3952), shape(100336, 3)"
   ]
  },
  {
   "cell_type": "code",
   "execution_count": 153,
   "metadata": {
    "collapsed": false
   },
   "outputs": [],
   "source": [
    "answer = trained_model.predict([test[:,1],test[:,2]])"
   ]
  },
  {
   "cell_type": "code",
   "execution_count": 154,
   "metadata": {
    "collapsed": false
   },
   "outputs": [
    {
     "data": {
      "text/plain": [
       "(100336, 1)"
      ]
     },
     "execution_count": 154,
     "metadata": {},
     "output_type": "execute_result"
    }
   ],
   "source": [
    "answer.shape"
   ]
  },
  {
   "cell_type": "code",
   "execution_count": 86,
   "metadata": {
    "collapsed": true
   },
   "outputs": [],
   "source": [
    "for i in range(100336):\n",
    "    if answer[i] == 0:\n",
    "        answer[i] = 1"
   ]
  },
  {
   "cell_type": "code",
   "execution_count": 155,
   "metadata": {
    "collapsed": true
   },
   "outputs": [],
   "source": [
    "submi = pd.read_csv(\"SampleSubmisson.csv\")"
   ]
  },
  {
   "cell_type": "code",
   "execution_count": 156,
   "metadata": {
    "collapsed": true
   },
   "outputs": [],
   "source": [
    "aa = pd.DataFrame(answer)"
   ]
  },
  {
   "cell_type": "code",
   "execution_count": 157,
   "metadata": {
    "collapsed": false
   },
   "outputs": [],
   "source": [
    "aa.to_csv(\"aa.csv\")"
   ]
  },
  {
   "cell_type": "code",
   "execution_count": null,
   "metadata": {
    "collapsed": true
   },
   "outputs": [],
   "source": [
    "answer"
   ]
  },
  {
   "cell_type": "code",
   "execution_count": null,
   "metadata": {
    "collapsed": true
   },
   "outputs": [],
   "source": []
  },
  {
   "cell_type": "code",
   "execution_count": null,
   "metadata": {
    "collapsed": true
   },
   "outputs": [],
   "source": []
  },
  {
   "cell_type": "code",
   "execution_count": 59,
   "metadata": {
    "collapsed": false
   },
   "outputs": [
    {
     "data": {
      "text/html": [
       "<div>\n",
       "<table border=\"1\" class=\"dataframe\">\n",
       "  <thead>\n",
       "    <tr style=\"text-align: right;\">\n",
       "      <th></th>\n",
       "      <th>UserID</th>\n",
       "      <th>MovieID</th>\n",
       "      <th>Rating</th>\n",
       "      <th>prediction</th>\n",
       "    </tr>\n",
       "  </thead>\n",
       "  <tbody>\n",
       "    <tr>\n",
       "      <th>109326</th>\n",
       "      <td>3000</td>\n",
       "      <td>3289</td>\n",
       "      <td>5</td>\n",
       "      <td>1.823372</td>\n",
       "    </tr>\n",
       "    <tr>\n",
       "      <th>109334</th>\n",
       "      <td>3000</td>\n",
       "      <td>306</td>\n",
       "      <td>5</td>\n",
       "      <td>2.699907</td>\n",
       "    </tr>\n",
       "    <tr>\n",
       "      <th>109341</th>\n",
       "      <td>3000</td>\n",
       "      <td>1214</td>\n",
       "      <td>4</td>\n",
       "      <td>4.682123</td>\n",
       "    </tr>\n",
       "    <tr>\n",
       "      <th>109327</th>\n",
       "      <td>3000</td>\n",
       "      <td>3481</td>\n",
       "      <td>4</td>\n",
       "      <td>3.941334</td>\n",
       "    </tr>\n",
       "    <tr>\n",
       "      <th>109329</th>\n",
       "      <td>3000</td>\n",
       "      <td>3159</td>\n",
       "      <td>4</td>\n",
       "      <td>4.024564</td>\n",
       "    </tr>\n",
       "    <tr>\n",
       "      <th>109338</th>\n",
       "      <td>3000</td>\n",
       "      <td>3751</td>\n",
       "      <td>4</td>\n",
       "      <td>0.009479</td>\n",
       "    </tr>\n",
       "    <tr>\n",
       "      <th>109337</th>\n",
       "      <td>3000</td>\n",
       "      <td>3745</td>\n",
       "      <td>4</td>\n",
       "      <td>3.522266</td>\n",
       "    </tr>\n",
       "    <tr>\n",
       "      <th>109323</th>\n",
       "      <td>3000</td>\n",
       "      <td>3002</td>\n",
       "      <td>4</td>\n",
       "      <td>1.982718</td>\n",
       "    </tr>\n",
       "    <tr>\n",
       "      <th>109333</th>\n",
       "      <td>3000</td>\n",
       "      <td>3510</td>\n",
       "      <td>4</td>\n",
       "      <td>2.963198</td>\n",
       "    </tr>\n",
       "    <tr>\n",
       "      <th>109322</th>\n",
       "      <td>3000</td>\n",
       "      <td>3793</td>\n",
       "      <td>3</td>\n",
       "      <td>4.123916</td>\n",
       "    </tr>\n",
       "  </tbody>\n",
       "</table>\n",
       "</div>"
      ],
      "text/plain": [
       "        UserID  MovieID  Rating  prediction\n",
       "109326    3000     3289       5    1.823372\n",
       "109334    3000      306       5    2.699907\n",
       "109341    3000     1214       4    4.682123\n",
       "109327    3000     3481       4    3.941334\n",
       "109329    3000     3159       4    4.024564\n",
       "109338    3000     3751       4    0.009479\n",
       "109337    3000     3745       4    3.522266\n",
       "109323    3000     3002       4    1.982718\n",
       "109333    3000     3510       4    2.963198\n",
       "109322    3000     3793       3    4.123916"
      ]
     },
     "execution_count": 59,
     "metadata": {},
     "output_type": "execute_result"
    }
   ],
   "source": [
    "user_ratings = ratings[ratings['UserID'] == 3000][['UserID', 'MovieID', 'Rating']]\n",
    "user_ratings['prediction'] = user_ratings.apply(lambda x: predict_rating(3000, x['MovieID']), axis=1)\n",
    "user_ratings.sort_values(by='Rating', \n",
    "                         ascending=False).head(10)"
   ]
  },
  {
   "cell_type": "code",
   "execution_count": null,
   "metadata": {
    "collapsed": false
   },
   "outputs": [],
   "source": [
    "user_ratings"
   ]
  },
  {
   "cell_type": "code",
   "execution_count": null,
   "metadata": {
    "collapsed": true
   },
   "outputs": [],
   "source": []
  },
  {
   "cell_type": "code",
   "execution_count": 30,
   "metadata": {
    "collapsed": false
   },
   "outputs": [
    {
     "name": "stderr",
     "output_type": "stream",
     "text": [
      "C:\\Program Files\\Anaconda3\\lib\\site-packages\\ipykernel\\__main__.py:10: ParserWarning: Falling back to the 'python' engine because the 'c' engine does not support regex separators (separators > 1 char and different from '\\s+' are interpreted as regex); you can avoid this warning by specifying engine='python'.\n"
     ]
    }
   ],
   "source": [
    "ratings = pd.read_csv(\"train.csv\")\n",
    "#train_data = np.asarray(train_data)\n",
    "#train_data.shape\n",
    "# TrainDataID/UserID(1~6040)/MovieID(1~3952)/Rating(1~5), shape(899873, 4)\n",
    "#最大5最小1\n",
    "test_data = pd.read_csv(\"test.csv\")\n",
    "#test_data = np.asarray(test_data)\n",
    "#test_data.shape\n",
    "#TestDataID/UserID(1~6040)/MovieID(1~3952), shape(100336, 3)\n",
    "users = pd.read_csv(\"users.csv\",sep='::')\n",
    "#users = np.asarray(user_data)\n",
    "#users.shape\n",
    "# UserID::Gender::Age::Occupation::Zip-code, shape(6040, 1)\n",
    "movies = pandas.read_csv('movies.csv', engine='python',sep='::')\n",
    "\n",
    "users.age = users.Age.astype('category')\n",
    "users.gender = users.Gender.astype('category')\n",
    "users.occupation = users.Occupation.astype('category')\n",
    "ratings.movieid = ratings.MovieID.astype('category')\n",
    "ratings.userid = ratings.UserID.astype('category')"
   ]
  },
  {
   "cell_type": "code",
   "execution_count": null,
   "metadata": {
    "collapsed": true
   },
   "outputs": [],
   "source": []
  },
  {
   "cell_type": "code",
   "execution_count": null,
   "metadata": {
    "collapsed": false
   },
   "outputs": [],
   "source": [
    "train_data"
   ]
  },
  {
   "cell_type": "code",
   "execution_count": null,
   "metadata": {
    "collapsed": true
   },
   "outputs": [],
   "source": [
    "# And finally, set up a y variable with the rating,\n",
    "# as a one-hot encoded matrix.\n",
    "#\n",
    "# note the '- 1' for the rating. That's because ratings\n",
    "# go from 1 to 5, while the matrix columns go from 0 to 4\n",
    "\n",
    "y = np.zeros((ratings.shape[0], 5))\n",
    "y[np.arange(ratings.shape[0]), ratings.rating - 1] = 1"
   ]
  },
  {
   "cell_type": "code",
   "execution_count": null,
   "metadata": {
    "collapsed": true
   },
   "outputs": [],
   "source": [
    "# Dummy classifier! Just see how well stupid can do.\n",
    "pred = dummy.DummyClassifier(strategy='prior')\n",
    "pred.fit(ratings[['userid', 'movieid']], ratings.rating)\n",
    "\n",
    "print(metrics.mean_absolute_error(ratings.rating, pred.predict(ratings[['userid', 'movieid']])))"
   ]
  },
  {
   "cell_type": "code",
   "execution_count": null,
   "metadata": {
    "collapsed": true
   },
   "outputs": [],
   "source": [
    "# Now, the deep learning classifier\n",
    "\n",
    "# First, we take the movie and vectorize it.\n",
    "# The embedding layer is normally used for sequences (think, sequences of words)\n",
    "# so we need to flatten it out.\n",
    "# The dropout layer is also important in preventing overfitting\n",
    "movie_input = keras.layers.Input(shape=[1])\n",
    "movie_vec = keras.layers.Flatten()(keras.layers.Embedding(n_movies + 1, 32)(movie_input))\n",
    "movie_vec = keras.layers.Dropout(0.5)(movie_vec)\n",
    "\n",
    "# Same thing for the users\n",
    "user_input = keras.layers.Input(shape=[1])\n",
    "user_vec = keras.layers.Flatten()(keras.layers.Embedding(n_users + 1, 32)(user_input))\n",
    "user_vec = keras.layers.Dropout(0.5)(user_vec)\n",
    "\n",
    "# Next, we join them all together and put them\n",
    "# through a pretty standard deep learning architecture\n",
    "input_vecs = keras.layers.merge([movie_vec, user_vec], mode='concat')\n",
    "nn = keras.layers.Dropout(0.5)(keras.layers.Dense(128, activation='relu')(input_vecs))\n",
    "nn = keras.layers.normalization.BatchNormalization()(nn)\n",
    "nn = keras.layers.Dropout(0.5)(keras.layers.Dense(128, activation='relu')(nn))\n",
    "nn = keras.layers.normalization.BatchNormalization()(nn)\n",
    "nn = keras.layers.Dense(128, activation='relu')(nn)\n",
    "\n",
    "# Finally, we pull out the result!\n",
    "result = keras.layers.Dense(5, activation='softmax')(nn)\n",
    "\n",
    "# And make a model from it that we can actually run.\n",
    "model = kmodels.Model([movie_input, user_input], result)\n",
    "model.compile('adam', 'categorical_crossentropy')\n",
    "\n",
    "# If we wanted to inspect part of the model, for example, to look\n",
    "# at the movie vectors, here's how to do it. You don't need to \n",
    "# compile these models unless you're going to train them.\n",
    "final_layer = kmodels.Model([movie_input, user_input], nn)\n",
    "movie_vec = kmodels.Model(movie_input, movie_vec)"
   ]
  },
  {
   "cell_type": "code",
   "execution_count": null,
   "metadata": {
    "collapsed": true
   },
   "outputs": [],
   "source": [
    "# Split the data into train and test sets...\n",
    "a_movieid, b_movieid, a_userid, b_userid, a_y, b_y = cross_validation.train_test_split(movieid, userid, y)"
   ]
  },
  {
   "cell_type": "code",
   "execution_count": null,
   "metadata": {
    "collapsed": true
   },
   "outputs": [],
   "source": [
    "# And of _course_ we need to make sure we're improving, so we find the MAE before\n",
    "# training at all.\n",
    "metrics.mean_absolute_error(np.argmax(b_y, 1)+1, np.argmax(model.predict([b_movieid, b_userid]), 1)+1)"
   ]
  },
  {
   "cell_type": "code",
   "execution_count": null,
   "metadata": {
    "collapsed": true
   },
   "outputs": [],
   "source": [
    "try:\n",
    "    history = model.fit([a_movieid, a_userid], a_y, \n",
    "                         nb_epoch=20, \n",
    "                         validation_data=([b_movieid, b_userid], b_y))\n",
    "    plot(history.history['loss'])\n",
    "    plot(history.history['val_loss'])\n",
    "except KeyboardInterrupt:\n",
    "    pass"
   ]
  },
  {
   "cell_type": "code",
   "execution_count": null,
   "metadata": {
    "collapsed": true
   },
   "outputs": [],
   "source": [
    "# This is the number that matters. It's the held out \n",
    "# test set score. Note the + 1, because np.argmax will\n",
    "# go from 0 to 4, while our ratings go 1 to 5.\n",
    "metrics.mean_absolute_error(\n",
    "    np.argmax(b_y, 1)+1, \n",
    "    np.argmax(model.predict([b_movieid, b_userid]), 1)+1)"
   ]
  },
  {
   "cell_type": "code",
   "execution_count": null,
   "metadata": {
    "collapsed": true
   },
   "outputs": [],
   "source": [
    "# For comparison's sake, here's the score on the training set.\n",
    "metrics.mean_absolute_error(\n",
    "    np.argmax(a_y, 1)+1, \n",
    "    np.argmax(model.predict([a_movieid, a_userid]), 1)+1)"
   ]
  },
  {
   "cell_type": "code",
   "execution_count": null,
   "metadata": {
    "collapsed": true
   },
   "outputs": [],
   "source": []
  },
  {
   "cell_type": "code",
   "execution_count": null,
   "metadata": {
    "collapsed": true
   },
   "outputs": [],
   "source": []
  }
 ],
 "metadata": {
  "anaconda-cloud": {},
  "kernelspec": {
   "display_name": "Python [conda root]",
   "language": "python",
   "name": "conda-root-py"
  },
  "language_info": {
   "codemirror_mode": {
    "name": "ipython",
    "version": 3
   },
   "file_extension": ".py",
   "mimetype": "text/x-python",
   "name": "python",
   "nbconvert_exporter": "python",
   "pygments_lexer": "ipython3",
   "version": "3.5.2"
  }
 },
 "nbformat": 4,
 "nbformat_minor": 1
}
